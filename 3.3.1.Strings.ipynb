{
 "cells": [
  {
   "cell_type": "markdown",
   "metadata": {},
   "source": [
    "# Working with texts"
   ]
  },
  {
   "cell_type": "code",
   "execution_count": 71,
   "metadata": {},
   "outputs": [],
   "source": [
    "filename = '../labs/data/02/shape-of-you-ed-sheeran-lyrics.txt'"
   ]
  },
  {
   "cell_type": "code",
   "execution_count": 12,
   "metadata": {},
   "outputs": [],
   "source": [
    "my_file = open(filename, 'r')"
   ]
  },
  {
   "cell_type": "code",
   "execution_count": 13,
   "metadata": {},
   "outputs": [],
   "source": [
    "letra = my_file.read()"
   ]
  },
  {
   "cell_type": "code",
   "execution_count": 14,
   "metadata": {},
   "outputs": [
    {
     "name": "stdout",
     "output_type": "stream",
     "text": [
      "The club isn't the best place to find a lover\n",
      "So the bar is where I go\n",
      "Me and my friends at the table doing shots\n",
      "Drinking fast and then we talk slow\n",
      "Come over and start up a conversation with just me\n",
      "And trust me I'll give it a chance now\n",
      "Take my hand, stop, put Van the Man on the jukebox\n",
      "And then we start to dance, and now I'm singing like\n",
      "Girl, you know I want your love\n",
      "Your love was handmade for somebody like me\n",
      "Come on now, follow my lead\n",
      "I may be crazy, don't mind me\n",
      "Say, boy, let's not talk too much\n",
      "Grab on my waist and put that body on me\n",
      "Come on now, follow my lead\n",
      "Come, come on now, follow my lead\n",
      "I'm in love with the shape of you\n",
      "We push and pull like a magnet do\n",
      "Although my heart is falling too\n",
      "I'm in love with your body\n",
      "And last night you were in my room\n",
      "And now my bedsheets smell like you\n",
      "Every day discovering something brand new\n",
      "I'm in love with your body\n",
      "I'm in love with your body\n",
      "I'm in love with your body\n",
      "I'm in love with your body\n",
      "Every day discovering something brand new\n",
      "I'm in love with the shape of you\n",
      "One week in we let the story begin\n",
      "We're going out on our first date\n",
      "You and me are thrifty, so go all you can eat\n",
      "Fill up your bag and I fill up a plate\n",
      "We talk for hours and hours about the sweet and the sour\n",
      "And how your family is doing okay\n",
      "Leave and get in a taxi, then kiss in the backseat\n",
      "Tell the driver make the radio play, and I'm singing like\n",
      "Girl, you know I want your love\n",
      "Your love was handmade for somebody like me\n",
      "Come on now, follow my lead\n",
      "I may be crazy, don't mind me\n",
      "Say, boy, let's not talk too much\n",
      "Grab on my waist and put that body on me\n",
      "Come on now, follow my lead\n",
      "Come, come on now, follow my lead\n",
      "I'm in love with the shape of you\n",
      "We push and pull like a magnet do\n",
      "Although my heart is falling too\n",
      "I'm in love with your body\n",
      "And last night you were in my room\n",
      "And now my bedsheets smell like you\n",
      "Every day discovering something brand new\n",
      "I'm in love with your body\n",
      "I'm in love with your body\n",
      "I'm in love with your body\n",
      "I'm in love with your body\n",
      "Every day discovering something brand new\n",
      "I'm in love with the shape of you\n",
      "Come on, be my baby, come on\n",
      "Come on, be my baby, come on\n",
      "Come on, be my baby, come on\n",
      "Come on, be my baby, come on\n",
      "Come on, be my baby, come on\n",
      "Come on, be my baby, come on\n",
      "Come on, be my baby, come on\n",
      "Come on, be my baby, come on\n",
      "I'm in love with the shape of you\n",
      "We push and pull like a magnet do\n",
      "Although my heart is falling too\n",
      "I'm in love with your body\n",
      "Last night you were in my room\n",
      "And now my bedsheets smell like you\n",
      "Every day discovering something brand new\n",
      "I'm in love with your body\n",
      "Come on, be my baby, come on\n",
      "Come on, be my baby, come on\n",
      "I'm in love with your body\n",
      "Come on, be my baby, come on\n",
      "Come on, be my baby, come on\n",
      "I'm in love with your body\n",
      "Come on, be my baby, come on\n",
      "Come on, be my baby, come on\n",
      "I'm in love with your body\n",
      "Every day discovering something brand new\n",
      "I'm in love with the shape of you\n"
     ]
    }
   ],
   "source": [
    "print(letra)"
   ]
  },
  {
   "cell_type": "code",
   "execution_count": null,
   "metadata": {},
   "outputs": [],
   "source": []
  }
 ],
 "metadata": {
  "kernelspec": {
   "display_name": "Ironhack",
   "language": "python",
   "name": "ironhack"
  },
  "language_info": {
   "codemirror_mode": {
    "name": "ipython",
    "version": 3
   },
   "file_extension": ".py",
   "mimetype": "text/x-python",
   "name": "python",
   "nbconvert_exporter": "python",
   "pygments_lexer": "ipython3",
   "version": "3.7.5"
  }
 },
 "nbformat": 4,
 "nbformat_minor": 4
}
