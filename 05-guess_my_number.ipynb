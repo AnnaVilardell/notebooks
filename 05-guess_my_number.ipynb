{
 "cells": [
  {
   "cell_type": "code",
   "execution_count": 141,
   "metadata": {},
   "outputs": [],
   "source": [
    "from random import randrange"
   ]
  },
  {
   "cell_type": "code",
   "execution_count": 142,
   "metadata": {},
   "outputs": [],
   "source": [
    "import time"
   ]
  },
  {
   "cell_type": "code",
   "execution_count": 143,
   "metadata": {},
   "outputs": [],
   "source": [
    "class Jugador():\n",
    "    def __init__(self, mode='auto'):\n",
    "        self.mode = mode\n",
    "        self.min = 0\n",
    "        self.max = 100\n",
    "        self.numeros = []\n",
    "        \n",
    "    def piensa(self):\n",
    "        self.numeros.append(randrange(100))\n",
    "    \n",
    "    def adivina(self):\n",
    "        return eval(input('Guess the number: '))\n",
    "    \n",
    "    def ajusta(self, num, res):\n",
    "        if res == 1:\n",
    "            self.min = num + 1\n",
    "        else:\n",
    "            self.max = num\n",
    "            \n",
    "    def valida(self, num):\n",
    "        time.sleep(1)\n",
    "        if (num>self.numeros[-1]):\n",
    "            print(f\"{num}?, no, my number is lower...\")\n",
    "            return -1\n",
    "        elif(num<self.numeros[-1]):\n",
    "            print(f\"{num}?, no, my number is higher...\")\n",
    "            return 1\n",
    "        else:\n",
    "            print(f\"{num}?, you guessed it!\")\n",
    "            return 0 \n",
    "        "
   ]
  },
  {
   "cell_type": "code",
   "execution_count": 144,
   "metadata": {},
   "outputs": [],
   "source": [
    "class JugadorMaquina(Jugador):\n",
    "    def __init__(self):\n",
    "        super(JugadorMaquina, self).__init__()\n",
    "        \n",
    "    def adivina(self):\n",
    "        time.sleep(1)\n",
    "        num = randrange(self.min, self.max)\n",
    "        print(f'{num}')\n",
    "        return num  "
   ]
  },
  {
   "cell_type": "code",
   "execution_count": 145,
   "metadata": {},
   "outputs": [],
   "source": [
    "class JugadorHumano(Jugador):\n",
    "    def __init__(self):\n",
    "        super(JugadorHumano, self).__init__('human')\n",
    "            \n",
    "    def piensa(self):\n",
    "        self.numeros.append(eval(input('Think of a number: ')))\n",
    "         "
   ]
  },
  {
   "cell_type": "code",
   "execution_count": 146,
   "metadata": {},
   "outputs": [],
   "source": [
    "class Juego():\n",
    "    \n",
    "    def __init__(self):\n",
    "        self.j1 = JugadorHumano()\n",
    "        self.j2 = JugadorMaquina()\n",
    "    \n",
    "    def jugar(self):\n",
    "        self.intentos = 0\n",
    "        while True:\n",
    "            self.j1.piensa()\n",
    "            num = self.j2.adivina()\n",
    "            res = self.j1.valida(num)\n",
    "\n",
    "            while not res == 0:\n",
    "                self.j2.ajusta(num, res)\n",
    "                num = self.j2.adivina()\n",
    "                res = self.j1.valida(num)\n",
    "                self.intentos += 1\n",
    "\n",
    "            print(f'You did it in {self.intentos}!')\n",
    "            continuar = input('quieres continuar? (Y|n) ') or 'Y'\n",
    "            if continuar == 'n':\n",
    "                break\n",
    "\n",
    "            self.j1, self.j2 = self.j2, self.j1\n",
    "            \n",
    "        print('Good bye!')\n",
    "    "
   ]
  },
  {
   "cell_type": "code",
   "execution_count": 147,
   "metadata": {},
   "outputs": [],
   "source": [
    "print(\"Welcome to 'Guess My Number'!\")\n",
    "print(\"I'm thinking of a number between and 100\")\n",
    "print(\"Try to guess it in as few attemps as possible\")\n",
    "\n",
    "juego = Juego()\n",
    "juego.jugar()"
   ]
  }
 ],
 "metadata": {
  "kernelspec": {
   "display_name": "Python 3",
   "language": "python",
   "name": "python3"
  },
  "language_info": {
   "codemirror_mode": {
    "name": "ipython",
    "version": 3
   },
   "file_extension": ".py",
   "mimetype": "text/x-python",
   "name": "python",
   "nbconvert_exporter": "python",
   "pygments_lexer": "ipython3",
   "version": "3.7.3"
  }
 },
 "nbformat": 4,
 "nbformat_minor": 2
}
