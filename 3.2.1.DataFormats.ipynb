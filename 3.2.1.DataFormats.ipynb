{
 "cells": [
  {
   "cell_type": "markdown",
   "metadata": {},
   "source": [
    "# CSV"
   ]
  },
  {
   "cell_type": "code",
   "execution_count": 4,
   "metadata": {},
   "outputs": [],
   "source": [
    "import csv"
   ]
  },
  {
   "cell_type": "code",
   "execution_count": 5,
   "metadata": {},
   "outputs": [],
   "source": [
    "try:\n",
    "    import clevercsv as csv\n",
    "except:\n",
    "    import csv"
   ]
  },
  {
   "cell_type": "code",
   "execution_count": 12,
   "metadata": {},
   "outputs": [],
   "source": [
    "csv_filename = '../labs/data/01/sample_file_1.csv'"
   ]
  },
  {
   "cell_type": "code",
   "execution_count": 13,
   "metadata": {},
   "outputs": [
    {
     "name": "stdout",
     "output_type": "stream",
     "text": [
      "['0', '1', '2', '3', '4', '5', '6', '7', '8', '9', '10', '11', '12', '13', '14', '15', '16', '17', '18', '19']\n",
      "['0.2768269481465526', '0.2600539143969304', '0.9423969993645017', '0.113186573883571', '0.7813550645836627', '0.475739914458678', '0.1520609362251647', '0.2503237263647139', '0.1470784198046563', '0.16298449996357411', '0.9770254336405146', '0.5096188368158496', '0.5932116464259736', '0.9118389221659233', '0.25764491502522135', '0.38645713768894374', '0.6969322645998504', '0.06916215051270647', '0.9522914787919005', '0.2865419323073606']\n",
      "['0.9958848354862676', '0.15838113557215172', '0.2442736056424828', '0.9621633670380298', '0.6519000888328286', '0.9306647449477456', '0.5771902028992173', '0.08791360033228679', '0.9602606770551084', '0.5808403706232278', '0.19461585775043677', '0.6614592360442781', '0.674084568645348', '0.04932637777792692', '0.7858030110348141', '0.3156445328260793', '0.49535515011890585', '0.23213532598924014', '0.5493236356661702', '0.5722323357283847']\n",
      "['0.641916622654909', '0.8210553167704127', '0.3924371254542419', '0.7826166033304552', '0.5107620871707726', '0.4283203471178192', '0.017324207377981238', '0.6807202313558247', '0.34041205221350135', '0.4625126323036661', '0.7857758997289559', '0.25194872278799885', '0.03284687058635993', '0.9957004548575084', '0.8165630269275471', '0.7356923324968598', '0.4359982087913735', '0.43041130090416657', '0.531757239496294', '0.4895280127580215']\n",
      "['0.8065316312867377', '0.5692584069582336', '0.1481753548877074', '0.8099868091360504', '0.4596315453712416', '0.7357618655811269', '0.7306642125209889', '0.9345023904998434', '0.08032238713766493', '0.7635021345768744', '0.3985037692966382', '0.02763671872344542', '0.40966450168600865', '0.942845729801833', '0.13325635516463907', '0.1571576690013463', '0.9294460292904924', '0.40279072072069155', '0.685976006703971', '0.24659389210943794']\n",
      "['0.3111848275907164', '0.5011654873006324', '0.3659792382653487', '0.7828069868371588', '0.7767950291165509', '0.797198798785809', '0.7919455450866845', '0.8471569562536997', '0.7718114664973373', '0.2339440007416509', '0.5223442842602458', '0.053029562947654374', '0.2085507411175752', '0.8243542373861713', '0.5885670965705934', '0.6043410437269982', '0.23296412911002973', '0.22910888544032393', '0.022881045526936483', '0.47902243982096704']\n"
     ]
    }
   ],
   "source": [
    "with open(csv_filename) as f:\n",
    "    reader = csv.reader(f)\n",
    "    for row in reader:\n",
    "        print(row)"
   ]
  },
  {
   "cell_type": "markdown",
   "metadata": {},
   "source": [
    "## Using Pandas"
   ]
  },
  {
   "cell_type": "code",
   "execution_count": 14,
   "metadata": {},
   "outputs": [],
   "source": [
    "import pandas as pd"
   ]
  },
  {
   "cell_type": "code",
   "execution_count": 15,
   "metadata": {},
   "outputs": [],
   "source": [
    "df = pd.read_csv(csv_filename)"
   ]
  },
  {
   "cell_type": "code",
   "execution_count": 16,
   "metadata": {},
   "outputs": [
    {
     "data": {
      "text/html": [
       "<div>\n",
       "<style scoped>\n",
       "    .dataframe tbody tr th:only-of-type {\n",
       "        vertical-align: middle;\n",
       "    }\n",
       "\n",
       "    .dataframe tbody tr th {\n",
       "        vertical-align: top;\n",
       "    }\n",
       "\n",
       "    .dataframe thead th {\n",
       "        text-align: right;\n",
       "    }\n",
       "</style>\n",
       "<table border=\"1\" class=\"dataframe\">\n",
       "  <thead>\n",
       "    <tr style=\"text-align: right;\">\n",
       "      <th></th>\n",
       "      <th>0</th>\n",
       "      <th>1</th>\n",
       "      <th>2</th>\n",
       "      <th>3</th>\n",
       "      <th>4</th>\n",
       "      <th>5</th>\n",
       "      <th>6</th>\n",
       "      <th>7</th>\n",
       "      <th>8</th>\n",
       "      <th>9</th>\n",
       "      <th>10</th>\n",
       "      <th>11</th>\n",
       "      <th>12</th>\n",
       "      <th>13</th>\n",
       "      <th>14</th>\n",
       "      <th>15</th>\n",
       "      <th>16</th>\n",
       "      <th>17</th>\n",
       "      <th>18</th>\n",
       "      <th>19</th>\n",
       "    </tr>\n",
       "  </thead>\n",
       "  <tbody>\n",
       "    <tr>\n",
       "      <th>0</th>\n",
       "      <td>0.276827</td>\n",
       "      <td>0.260054</td>\n",
       "      <td>0.942397</td>\n",
       "      <td>0.113187</td>\n",
       "      <td>0.781355</td>\n",
       "      <td>0.475740</td>\n",
       "      <td>0.152061</td>\n",
       "      <td>0.250324</td>\n",
       "      <td>0.147078</td>\n",
       "      <td>0.162984</td>\n",
       "      <td>0.977025</td>\n",
       "      <td>0.509619</td>\n",
       "      <td>0.593212</td>\n",
       "      <td>0.911839</td>\n",
       "      <td>0.257645</td>\n",
       "      <td>0.386457</td>\n",
       "      <td>0.696932</td>\n",
       "      <td>0.069162</td>\n",
       "      <td>0.952291</td>\n",
       "      <td>0.286542</td>\n",
       "    </tr>\n",
       "    <tr>\n",
       "      <th>1</th>\n",
       "      <td>0.995885</td>\n",
       "      <td>0.158381</td>\n",
       "      <td>0.244274</td>\n",
       "      <td>0.962163</td>\n",
       "      <td>0.651900</td>\n",
       "      <td>0.930665</td>\n",
       "      <td>0.577190</td>\n",
       "      <td>0.087914</td>\n",
       "      <td>0.960261</td>\n",
       "      <td>0.580840</td>\n",
       "      <td>0.194616</td>\n",
       "      <td>0.661459</td>\n",
       "      <td>0.674085</td>\n",
       "      <td>0.049326</td>\n",
       "      <td>0.785803</td>\n",
       "      <td>0.315645</td>\n",
       "      <td>0.495355</td>\n",
       "      <td>0.232135</td>\n",
       "      <td>0.549324</td>\n",
       "      <td>0.572232</td>\n",
       "    </tr>\n",
       "    <tr>\n",
       "      <th>2</th>\n",
       "      <td>0.641917</td>\n",
       "      <td>0.821055</td>\n",
       "      <td>0.392437</td>\n",
       "      <td>0.782617</td>\n",
       "      <td>0.510762</td>\n",
       "      <td>0.428320</td>\n",
       "      <td>0.017324</td>\n",
       "      <td>0.680720</td>\n",
       "      <td>0.340412</td>\n",
       "      <td>0.462513</td>\n",
       "      <td>0.785776</td>\n",
       "      <td>0.251949</td>\n",
       "      <td>0.032847</td>\n",
       "      <td>0.995700</td>\n",
       "      <td>0.816563</td>\n",
       "      <td>0.735692</td>\n",
       "      <td>0.435998</td>\n",
       "      <td>0.430411</td>\n",
       "      <td>0.531757</td>\n",
       "      <td>0.489528</td>\n",
       "    </tr>\n",
       "    <tr>\n",
       "      <th>3</th>\n",
       "      <td>0.806532</td>\n",
       "      <td>0.569258</td>\n",
       "      <td>0.148175</td>\n",
       "      <td>0.809987</td>\n",
       "      <td>0.459632</td>\n",
       "      <td>0.735762</td>\n",
       "      <td>0.730664</td>\n",
       "      <td>0.934502</td>\n",
       "      <td>0.080322</td>\n",
       "      <td>0.763502</td>\n",
       "      <td>0.398504</td>\n",
       "      <td>0.027637</td>\n",
       "      <td>0.409665</td>\n",
       "      <td>0.942846</td>\n",
       "      <td>0.133256</td>\n",
       "      <td>0.157158</td>\n",
       "      <td>0.929446</td>\n",
       "      <td>0.402791</td>\n",
       "      <td>0.685976</td>\n",
       "      <td>0.246594</td>\n",
       "    </tr>\n",
       "    <tr>\n",
       "      <th>4</th>\n",
       "      <td>0.311185</td>\n",
       "      <td>0.501165</td>\n",
       "      <td>0.365979</td>\n",
       "      <td>0.782807</td>\n",
       "      <td>0.776795</td>\n",
       "      <td>0.797199</td>\n",
       "      <td>0.791946</td>\n",
       "      <td>0.847157</td>\n",
       "      <td>0.771811</td>\n",
       "      <td>0.233944</td>\n",
       "      <td>0.522344</td>\n",
       "      <td>0.053030</td>\n",
       "      <td>0.208551</td>\n",
       "      <td>0.824354</td>\n",
       "      <td>0.588567</td>\n",
       "      <td>0.604341</td>\n",
       "      <td>0.232964</td>\n",
       "      <td>0.229109</td>\n",
       "      <td>0.022881</td>\n",
       "      <td>0.479022</td>\n",
       "    </tr>\n",
       "  </tbody>\n",
       "</table>\n",
       "</div>"
      ],
      "text/plain": [
       "          0         1         2         3         4         5         6  \\\n",
       "0  0.276827  0.260054  0.942397  0.113187  0.781355  0.475740  0.152061   \n",
       "1  0.995885  0.158381  0.244274  0.962163  0.651900  0.930665  0.577190   \n",
       "2  0.641917  0.821055  0.392437  0.782617  0.510762  0.428320  0.017324   \n",
       "3  0.806532  0.569258  0.148175  0.809987  0.459632  0.735762  0.730664   \n",
       "4  0.311185  0.501165  0.365979  0.782807  0.776795  0.797199  0.791946   \n",
       "\n",
       "          7         8         9        10        11        12        13  \\\n",
       "0  0.250324  0.147078  0.162984  0.977025  0.509619  0.593212  0.911839   \n",
       "1  0.087914  0.960261  0.580840  0.194616  0.661459  0.674085  0.049326   \n",
       "2  0.680720  0.340412  0.462513  0.785776  0.251949  0.032847  0.995700   \n",
       "3  0.934502  0.080322  0.763502  0.398504  0.027637  0.409665  0.942846   \n",
       "4  0.847157  0.771811  0.233944  0.522344  0.053030  0.208551  0.824354   \n",
       "\n",
       "         14        15        16        17        18        19  \n",
       "0  0.257645  0.386457  0.696932  0.069162  0.952291  0.286542  \n",
       "1  0.785803  0.315645  0.495355  0.232135  0.549324  0.572232  \n",
       "2  0.816563  0.735692  0.435998  0.430411  0.531757  0.489528  \n",
       "3  0.133256  0.157158  0.929446  0.402791  0.685976  0.246594  \n",
       "4  0.588567  0.604341  0.232964  0.229109  0.022881  0.479022  "
      ]
     },
     "execution_count": 16,
     "metadata": {},
     "output_type": "execute_result"
    }
   ],
   "source": [
    "df"
   ]
  },
  {
   "cell_type": "markdown",
   "metadata": {},
   "source": [
    "# Excel"
   ]
  },
  {
   "cell_type": "code",
   "execution_count": 34,
   "metadata": {},
   "outputs": [],
   "source": [
    "astronautas = pd.read_excel('data/astronauts.xls')"
   ]
  },
  {
   "cell_type": "code",
   "execution_count": 37,
   "metadata": {},
   "outputs": [
    {
     "data": {
      "text/html": [
       "<div>\n",
       "<style scoped>\n",
       "    .dataframe tbody tr th:only-of-type {\n",
       "        vertical-align: middle;\n",
       "    }\n",
       "\n",
       "    .dataframe tbody tr th {\n",
       "        vertical-align: top;\n",
       "    }\n",
       "\n",
       "    .dataframe thead th {\n",
       "        text-align: right;\n",
       "    }\n",
       "</style>\n",
       "<table border=\"1\" class=\"dataframe\">\n",
       "  <thead>\n",
       "    <tr style=\"text-align: right;\">\n",
       "      <th></th>\n",
       "      <th>Name</th>\n",
       "      <th>Year</th>\n",
       "      <th>Group</th>\n",
       "      <th>Status</th>\n",
       "      <th>Birth Date</th>\n",
       "      <th>Birth Place</th>\n",
       "      <th>Gender</th>\n",
       "      <th>Alma Mater</th>\n",
       "      <th>Undergraduate Major</th>\n",
       "      <th>Graduate Major</th>\n",
       "      <th>Military Rank</th>\n",
       "      <th>Military Branch</th>\n",
       "      <th>Space Flights</th>\n",
       "      <th>Space Flight (hr)</th>\n",
       "      <th>Space Walks</th>\n",
       "      <th>Space Walks (hr)</th>\n",
       "      <th>Missions</th>\n",
       "      <th>Death Date</th>\n",
       "      <th>Death Mission</th>\n",
       "    </tr>\n",
       "  </thead>\n",
       "  <tbody>\n",
       "    <tr>\n",
       "      <th>0</th>\n",
       "      <td>Joseph M. Acaba</td>\n",
       "      <td>2004.0</td>\n",
       "      <td>19.0</td>\n",
       "      <td>Active</td>\n",
       "      <td>1967-05-17</td>\n",
       "      <td>Inglewood, CA</td>\n",
       "      <td>Male</td>\n",
       "      <td>University of California-Santa Barbara; Univer...</td>\n",
       "      <td>Geology</td>\n",
       "      <td>Geology</td>\n",
       "      <td>NaN</td>\n",
       "      <td>NaN</td>\n",
       "      <td>2</td>\n",
       "      <td>3307</td>\n",
       "      <td>2</td>\n",
       "      <td>13.0</td>\n",
       "      <td>STS-119 (Discovery), ISS-31/32 (Soyuz)</td>\n",
       "      <td>NaT</td>\n",
       "      <td>NaN</td>\n",
       "    </tr>\n",
       "    <tr>\n",
       "      <th>1</th>\n",
       "      <td>Loren W. Acton</td>\n",
       "      <td>NaN</td>\n",
       "      <td>NaN</td>\n",
       "      <td>Retired</td>\n",
       "      <td>1936-03-07</td>\n",
       "      <td>Lewiston, MT</td>\n",
       "      <td>Male</td>\n",
       "      <td>Montana State University; University of Colorado</td>\n",
       "      <td>Engineering Physics</td>\n",
       "      <td>Solar Physics</td>\n",
       "      <td>NaN</td>\n",
       "      <td>NaN</td>\n",
       "      <td>1</td>\n",
       "      <td>190</td>\n",
       "      <td>0</td>\n",
       "      <td>0.0</td>\n",
       "      <td>STS 51-F (Challenger)</td>\n",
       "      <td>NaT</td>\n",
       "      <td>NaN</td>\n",
       "    </tr>\n",
       "    <tr>\n",
       "      <th>2</th>\n",
       "      <td>James C. Adamson</td>\n",
       "      <td>1984.0</td>\n",
       "      <td>10.0</td>\n",
       "      <td>Retired</td>\n",
       "      <td>1946-03-03</td>\n",
       "      <td>Warsaw, NY</td>\n",
       "      <td>Male</td>\n",
       "      <td>US Military Academy; Princeton University</td>\n",
       "      <td>Engineering</td>\n",
       "      <td>Aerospace Engineering</td>\n",
       "      <td>Colonel</td>\n",
       "      <td>US Army (Retired)</td>\n",
       "      <td>2</td>\n",
       "      <td>334</td>\n",
       "      <td>0</td>\n",
       "      <td>0.0</td>\n",
       "      <td>STS-28 (Columbia), STS-43 (Atlantis)</td>\n",
       "      <td>NaT</td>\n",
       "      <td>NaN</td>\n",
       "    </tr>\n",
       "    <tr>\n",
       "      <th>3</th>\n",
       "      <td>Thomas D. Akers</td>\n",
       "      <td>1987.0</td>\n",
       "      <td>12.0</td>\n",
       "      <td>Retired</td>\n",
       "      <td>1951-05-20</td>\n",
       "      <td>St. Louis, MO</td>\n",
       "      <td>Male</td>\n",
       "      <td>University of Missouri-Rolla</td>\n",
       "      <td>Applied Mathematics</td>\n",
       "      <td>Applied Mathematics</td>\n",
       "      <td>Colonel</td>\n",
       "      <td>US Air Force (Retired)</td>\n",
       "      <td>4</td>\n",
       "      <td>814</td>\n",
       "      <td>4</td>\n",
       "      <td>29.0</td>\n",
       "      <td>STS-41 (Discovery), STS-49 (Endeavor), STS-61 ...</td>\n",
       "      <td>NaT</td>\n",
       "      <td>NaN</td>\n",
       "    </tr>\n",
       "    <tr>\n",
       "      <th>4</th>\n",
       "      <td>Buzz Aldrin</td>\n",
       "      <td>1963.0</td>\n",
       "      <td>3.0</td>\n",
       "      <td>Retired</td>\n",
       "      <td>1930-01-20</td>\n",
       "      <td>Montclair, NJ</td>\n",
       "      <td>Male</td>\n",
       "      <td>US Military Academy; MIT</td>\n",
       "      <td>Mechanical Engineering</td>\n",
       "      <td>Astronautics</td>\n",
       "      <td>Colonel</td>\n",
       "      <td>US Air Force (Retired)</td>\n",
       "      <td>2</td>\n",
       "      <td>289</td>\n",
       "      <td>2</td>\n",
       "      <td>8.0</td>\n",
       "      <td>Gemini 12, Apollo 11</td>\n",
       "      <td>NaT</td>\n",
       "      <td>NaN</td>\n",
       "    </tr>\n",
       "  </tbody>\n",
       "</table>\n",
       "</div>"
      ],
      "text/plain": [
       "               Name    Year  Group   Status Birth Date    Birth Place Gender  \\\n",
       "0   Joseph M. Acaba  2004.0   19.0   Active 1967-05-17  Inglewood, CA   Male   \n",
       "1    Loren W. Acton     NaN    NaN  Retired 1936-03-07   Lewiston, MT   Male   \n",
       "2  James C. Adamson  1984.0   10.0  Retired 1946-03-03     Warsaw, NY   Male   \n",
       "3   Thomas D. Akers  1987.0   12.0  Retired 1951-05-20  St. Louis, MO   Male   \n",
       "4       Buzz Aldrin  1963.0    3.0  Retired 1930-01-20  Montclair, NJ   Male   \n",
       "\n",
       "                                          Alma Mater     Undergraduate Major  \\\n",
       "0  University of California-Santa Barbara; Univer...                 Geology   \n",
       "1   Montana State University; University of Colorado     Engineering Physics   \n",
       "2          US Military Academy; Princeton University             Engineering   \n",
       "3                       University of Missouri-Rolla     Applied Mathematics   \n",
       "4                           US Military Academy; MIT  Mechanical Engineering   \n",
       "\n",
       "          Graduate Major Military Rank         Military Branch  Space Flights  \\\n",
       "0                Geology           NaN                     NaN              2   \n",
       "1          Solar Physics           NaN                     NaN              1   \n",
       "2  Aerospace Engineering       Colonel       US Army (Retired)              2   \n",
       "3    Applied Mathematics       Colonel  US Air Force (Retired)              4   \n",
       "4           Astronautics       Colonel  US Air Force (Retired)              2   \n",
       "\n",
       "   Space Flight (hr)  Space Walks  Space Walks (hr)  \\\n",
       "0               3307            2              13.0   \n",
       "1                190            0               0.0   \n",
       "2                334            0               0.0   \n",
       "3                814            4              29.0   \n",
       "4                289            2               8.0   \n",
       "\n",
       "                                            Missions Death Date Death Mission  \n",
       "0             STS-119 (Discovery), ISS-31/32 (Soyuz)        NaT           NaN  \n",
       "1                              STS 51-F (Challenger)        NaT           NaN  \n",
       "2               STS-28 (Columbia), STS-43 (Atlantis)        NaT           NaN  \n",
       "3  STS-41 (Discovery), STS-49 (Endeavor), STS-61 ...        NaT           NaN  \n",
       "4                               Gemini 12, Apollo 11        NaT           NaN  "
      ]
     },
     "execution_count": 37,
     "metadata": {},
     "output_type": "execute_result"
    }
   ],
   "source": [
    "astronautas.head(5)"
   ]
  },
  {
   "cell_type": "code",
   "execution_count": 38,
   "metadata": {},
   "outputs": [],
   "source": [
    "# !pip install xlwt\n",
    "astronautas.to_excel('astronauts.xls')"
   ]
  },
  {
   "cell_type": "markdown",
   "metadata": {},
   "source": [
    "# JSON"
   ]
  },
  {
   "cell_type": "code",
   "execution_count": 17,
   "metadata": {},
   "outputs": [],
   "source": [
    "alberto = {\n",
    "  'name': \"Alberto\",\n",
    "  'age': 25,\n",
    "  'city': \"Pamplona\" \n",
    "}\n",
    "\n",
    "ana = {\n",
    "  'name': \"Ana\",\n",
    "  'age': 28,\n",
    "  'city': \"Madrid\" }\n",
    "\n",
    "contacts = [alberto, ana]"
   ]
  },
  {
   "cell_type": "code",
   "execution_count": 2,
   "metadata": {},
   "outputs": [],
   "source": [
    "import json"
   ]
  },
  {
   "cell_type": "code",
   "execution_count": 21,
   "metadata": {},
   "outputs": [
    {
     "data": {
      "text/plain": [
       "'[{\"name\": \"Alberto\", \"age\": 25, \"city\": \"Pamplona\"}, {\"name\": \"Ana\", \"age\": 28, \"city\": \"Madrid\"}]'"
      ]
     },
     "execution_count": 21,
     "metadata": {},
     "output_type": "execute_result"
    }
   ],
   "source": [
    "json.dumps(contacts)"
   ]
  },
  {
   "cell_type": "code",
   "execution_count": 20,
   "metadata": {},
   "outputs": [
    {
     "name": "stdout",
     "output_type": "stream",
     "text": [
      "[\n",
      "  {\n",
      "    \"age\": 25,\n",
      "    \"city\": \"Pamplona\",\n",
      "    \"name\": \"Alberto\"\n",
      "  },\n",
      "  {\n",
      "    \"age\": 28,\n",
      "    \"city\": \"Madrid\",\n",
      "    \"name\": \"Ana\"\n",
      "  }\n",
      "]\n"
     ]
    }
   ],
   "source": [
    "print(json.dumps(contacts, indent=2, sort_keys=True))"
   ]
  },
  {
   "cell_type": "code",
   "execution_count": 22,
   "metadata": {},
   "outputs": [],
   "source": [
    "with open(\"data/contacts.json\", \"w\") as file:\n",
    "    json.dump(contacts, file)"
   ]
  },
  {
   "cell_type": "code",
   "execution_count": 23,
   "metadata": {},
   "outputs": [],
   "source": [
    "with open(\"data/contacts.json\") as file:\n",
    "    contacts = json.load(file)"
   ]
  },
  {
   "cell_type": "code",
   "execution_count": 22,
   "metadata": {},
   "outputs": [
    {
     "data": {
      "text/plain": [
       "[{'name': 'Alberto', 'age': 25, 'city': 'Pamplona'},\n",
       " {'name': 'Ana', 'age': 28, 'city': 'Madrid'}]"
      ]
     },
     "execution_count": 22,
     "metadata": {},
     "output_type": "execute_result"
    }
   ],
   "source": [
    "contacts"
   ]
  },
  {
   "cell_type": "markdown",
   "metadata": {},
   "source": [
    "## Using Pandas"
   ]
  },
  {
   "cell_type": "code",
   "execution_count": 32,
   "metadata": {},
   "outputs": [],
   "source": [
    "contactos = pd.read_json('data/contacts.json')"
   ]
  },
  {
   "cell_type": "code",
   "execution_count": 33,
   "metadata": {},
   "outputs": [
    {
     "data": {
      "text/html": [
       "<div>\n",
       "<style scoped>\n",
       "    .dataframe tbody tr th:only-of-type {\n",
       "        vertical-align: middle;\n",
       "    }\n",
       "\n",
       "    .dataframe tbody tr th {\n",
       "        vertical-align: top;\n",
       "    }\n",
       "\n",
       "    .dataframe thead th {\n",
       "        text-align: right;\n",
       "    }\n",
       "</style>\n",
       "<table border=\"1\" class=\"dataframe\">\n",
       "  <thead>\n",
       "    <tr style=\"text-align: right;\">\n",
       "      <th></th>\n",
       "      <th>name</th>\n",
       "      <th>age</th>\n",
       "      <th>city</th>\n",
       "    </tr>\n",
       "  </thead>\n",
       "  <tbody>\n",
       "    <tr>\n",
       "      <th>0</th>\n",
       "      <td>Paula</td>\n",
       "      <td>25</td>\n",
       "      <td>Pamplona</td>\n",
       "    </tr>\n",
       "    <tr>\n",
       "      <th>1</th>\n",
       "      <td>Ana</td>\n",
       "      <td>28</td>\n",
       "      <td>Madrid</td>\n",
       "    </tr>\n",
       "  </tbody>\n",
       "</table>\n",
       "</div>"
      ],
      "text/plain": [
       "    name  age      city\n",
       "0  Paula   25  Pamplona\n",
       "1    Ana   28    Madrid"
      ]
     },
     "execution_count": 33,
     "metadata": {},
     "output_type": "execute_result"
    }
   ],
   "source": [
    "contactos"
   ]
  },
  {
   "cell_type": "markdown",
   "metadata": {},
   "source": [
    "# YAML "
   ]
  },
  {
   "cell_type": "code",
   "execution_count": 3,
   "metadata": {},
   "outputs": [],
   "source": [
    "# !pip install pyyaml\n",
    "\n",
    "import yaml"
   ]
  },
  {
   "cell_type": "raw",
   "metadata": {},
   "source": [
    "servers:\n",
    "  - server1:\n",
    "      ip : 10.1.1.10\n",
    "      name: barcelona\n",
    "  - server2:\n",
    "      ip : 10.1.1.11\n",
    "      name: madrid"
   ]
  },
  {
   "cell_type": "code",
   "execution_count": 30,
   "metadata": {},
   "outputs": [],
   "source": [
    "import yaml\n",
    "with open('data/servers.yaml') as f:\n",
    "    # The FullLoader parameter handles the conversion from YAML\n",
    "    # scalar values to Python the dictionary format\n",
    "    servers = yaml.load(f, Loader=yaml.FullLoader)"
   ]
  },
  {
   "cell_type": "code",
   "execution_count": 31,
   "metadata": {},
   "outputs": [
    {
     "data": {
      "text/plain": [
       "{'servers': [{'server1': {'ip': '10.1.1.10', 'name': 'barcelona'}},\n",
       "  {'server2': {'ip': '10.1.1.11', 'name': 'madrid'}}]}"
      ]
     },
     "execution_count": 31,
     "metadata": {},
     "output_type": "execute_result"
    }
   ],
   "source": [
    "servers"
   ]
  },
  {
   "cell_type": "markdown",
   "metadata": {},
   "source": [
    "# XML"
   ]
  },
  {
   "cell_type": "raw",
   "metadata": {},
   "source": [
    "<catalog>\n",
    "   <book id=\"bk101\">\n",
    "      <author>Gambardella, Matthew</author>\n",
    "      <title>XML Developer's Guide</title>\n",
    "      <genre>Computer</genre>\n",
    "      <price>44.95</price>\n",
    "      <publish_date>2000-10-01</publish_date>\n",
    "      <description>An in-depth look at creating applications \n",
    "      with XML.</description>\n",
    "   </book>\n",
    "</catalog>"
   ]
  },
  {
   "cell_type": "code",
   "execution_count": 24,
   "metadata": {},
   "outputs": [],
   "source": [
    "from xml.etree.ElementTree import parse"
   ]
  },
  {
   "cell_type": "code",
   "execution_count": 25,
   "metadata": {},
   "outputs": [],
   "source": [
    "document = parse('data/books.xml')"
   ]
  },
  {
   "cell_type": "code",
   "execution_count": 39,
   "metadata": {},
   "outputs": [
    {
     "name": "stdout",
     "output_type": "stream",
     "text": [
      "bk101\n",
      "XML Developer's Guide\n",
      "bk102\n",
      "Midnight Rain\n",
      "bk103\n",
      "Maeve Ascendant\n",
      "bk104\n",
      "Oberon's Legacy\n",
      "bk105\n",
      "The Sundered Grail\n",
      "bk106\n",
      "Lover Birds\n",
      "bk107\n",
      "Splish Splash\n",
      "bk108\n",
      "Creepy Crawlies\n",
      "bk109\n",
      "Paradox Lost\n",
      "bk110\n",
      "Microsoft .NET: The Programming Bible\n",
      "bk111\n",
      "MSXML3: A Comprehensive Guide\n",
      "bk112\n",
      "Visual Studio 7: A Comprehensive Guide\n"
     ]
    }
   ],
   "source": [
    "for item in document.iterfind('book'):\n",
    "    print(item.attrib['id'])\n",
    "    print(item.findtext('title'))"
   ]
  },
  {
   "cell_type": "markdown",
   "metadata": {},
   "source": [
    "## xml2json"
   ]
  },
  {
   "cell_type": "code",
   "execution_count": 40,
   "metadata": {},
   "outputs": [
    {
     "name": "stdout",
     "output_type": "stream",
     "text": [
      "[\n",
      "  {\n",
      "    \"id\": \"bk101\",\n",
      "    \"author\": \"Gambardella, Matthew\",\n",
      "    \"title\": \"XML Developer's Guide\",\n",
      "    \"genre\": \"Computer\",\n",
      "    \"price\": \"44.95\",\n",
      "    \"publish_date\": \"2000-10-01\",\n",
      "    \"description\": \"An in-depth look at creating applications with XML.\"\n",
      "  },\n",
      "  {\n",
      "    \"id\": \"bk102\",\n",
      "    \"author\": \"Ralls, Kim\",\n",
      "    \"title\": \"Midnight Rain\",\n",
      "    \"genre\": \"Fantasy\",\n",
      "    \"price\": \"5.95\",\n",
      "    \"publish_date\": \"2000-12-16\",\n",
      "    \"description\": \"A former architect battles corporate zombies, an evil sorceress, and her own childhood to become queen of the world.\"\n",
      "  },\n",
      "  {\n",
      "    \"id\": \"bk103\",\n",
      "    \"author\": \"Corets, Eva\",\n",
      "    \"title\": \"Maeve Ascendant\",\n",
      "    \"genre\": \"Fantasy\",\n",
      "    \"price\": \"5.95\",\n",
      "    \"publish_date\": \"2000-11-17\",\n",
      "    \"description\": \"After the collapse of a nanotechnology society in England, the young survivors lay the foundation for a new society.\"\n",
      "  },\n",
      "  {\n",
      "    \"id\": \"bk104\",\n",
      "    \"author\": \"Corets, Eva\",\n",
      "    \"title\": \"Oberon's Legacy\",\n",
      "    \"genre\": \"Fantasy\",\n",
      "    \"price\": \"5.95\",\n",
      "    \"publish_date\": \"2001-03-10\",\n",
      "    \"description\": \"In post-apocalypse England, the mysterious agent known only as Oberon helps to create a new life for the inhabitants of London. Sequel to Maeve Ascendant.\"\n",
      "  },\n",
      "  {\n",
      "    \"id\": \"bk105\",\n",
      "    \"author\": \"Corets, Eva\",\n",
      "    \"title\": \"The Sundered Grail\",\n",
      "    \"genre\": \"Fantasy\",\n",
      "    \"price\": \"5.95\",\n",
      "    \"publish_date\": \"2001-09-10\",\n",
      "    \"description\": \"The two daughters of Maeve, half-sisters, battle one another for control of England. Sequel to Oberon's Legacy.\"\n",
      "  },\n",
      "  {\n",
      "    \"id\": \"bk106\",\n",
      "    \"author\": \"Randall, Cynthia\",\n",
      "    \"title\": \"Lover Birds\",\n",
      "    \"genre\": \"Romance\",\n",
      "    \"price\": \"4.95\",\n",
      "    \"publish_date\": \"2000-09-02\",\n",
      "    \"description\": \"When Carla meets Paul at an ornithology conference, tempers fly as feathers get ruffled.\"\n",
      "  },\n",
      "  {\n",
      "    \"id\": \"bk107\",\n",
      "    \"author\": \"Thurman, Paula\",\n",
      "    \"title\": \"Splish Splash\",\n",
      "    \"genre\": \"Romance\",\n",
      "    \"price\": \"4.95\",\n",
      "    \"publish_date\": \"2000-11-02\",\n",
      "    \"description\": \"A deep sea diver finds true love twenty thousand leagues beneath the sea.\"\n",
      "  },\n",
      "  {\n",
      "    \"id\": \"bk108\",\n",
      "    \"author\": \"Knorr, Stefan\",\n",
      "    \"title\": \"Creepy Crawlies\",\n",
      "    \"genre\": \"Horror\",\n",
      "    \"price\": \"4.95\",\n",
      "    \"publish_date\": \"2000-12-06\",\n",
      "    \"description\": \"An anthology of horror stories about roaches,centipedes, scorpions  and other insects.\"\n",
      "  },\n",
      "  {\n",
      "    \"id\": \"bk109\",\n",
      "    \"author\": \"Kress, Peter\",\n",
      "    \"title\": \"Paradox Lost\",\n",
      "    \"genre\": \"Science Fiction\",\n",
      "    \"price\": \"6.95\",\n",
      "    \"publish_date\": \"2000-11-02\",\n",
      "    \"description\": \"After an inadvertant trip through a HeisenbergUncertainty Device, James Salway discovers the problems of being quantum.\"\n",
      "  },\n",
      "  {\n",
      "    \"id\": \"bk110\",\n",
      "    \"author\": \"O'Brien, Tim\",\n",
      "    \"title\": \"Microsoft .NET: The Programming Bible\",\n",
      "    \"genre\": \"Computer\",\n",
      "    \"price\": \"36.95\",\n",
      "    \"publish_date\": \"2000-12-09\",\n",
      "    \"description\": \"Microsoft's .NET initiative is explored in detail in this deep programmer's reference.\"\n",
      "  },\n",
      "  {\n",
      "    \"id\": \"bk111\",\n",
      "    \"author\": \"O'Brien, Tim\",\n",
      "    \"title\": \"MSXML3: A Comprehensive Guide\",\n",
      "    \"genre\": \"Computer\",\n",
      "    \"price\": \"36.95\",\n",
      "    \"publish_date\": \"2000-12-01\",\n",
      "    \"description\": \"The Microsoft MSXML3 parser is covered in detail, with attention to XML DOM interfaces, XSLT processing, SAX and more.\"\n",
      "  },\n",
      "  {\n",
      "    \"id\": \"bk112\",\n",
      "    \"author\": \"Galos, Mike\",\n",
      "    \"title\": \"Visual Studio 7: A Comprehensive Guide\",\n",
      "    \"genre\": \"Computer\",\n",
      "    \"price\": \"49.95\",\n",
      "    \"publish_date\": \"2001-04-16\",\n",
      "    \"description\": \"Microsoft Visual Studio 7 is explored in depth,looking at how Visual Basic, Visual C++, C#, and ASP+ are integrated into a comprehensive development environment.\"\n",
      "  }\n",
      "]\n"
     ]
    }
   ],
   "source": [
    "catalog = []\n",
    "\n",
    "for item in document.iterfind('book'):\n",
    "    book = {\n",
    "        \"id\": item.attrib['id'],\n",
    "        \"author\": item.findtext('author'),\n",
    "        \"title\": item.findtext('title'),\n",
    "        \"genre\": item.findtext('genre'),\n",
    "        \"price\": item.findtext('price'),\n",
    "        \"publish_date\": item.findtext('publish_date'),\n",
    "        \"description\": item.findtext('description').replace('\\n      ',''),\n",
    "        \n",
    "    }\n",
    "    catalog.append(book)\n",
    "    \n",
    "print(json.dumps(catalog, indent=2))   "
   ]
  }
 ],
 "metadata": {
  "kernelspec": {
   "display_name": "Ironhack",
   "language": "python",
   "name": "ironhack"
  },
  "language_info": {
   "codemirror_mode": {
    "name": "ipython",
    "version": 3
   },
   "file_extension": ".py",
   "mimetype": "text/x-python",
   "name": "python",
   "nbconvert_exporter": "python",
   "pygments_lexer": "ipython3",
   "version": "3.7.5"
  }
 },
 "nbformat": 4,
 "nbformat_minor": 4
}
